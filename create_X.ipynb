{
 "cells": [
  {
   "cell_type": "code",
   "execution_count": 1,
   "id": "0f1d47cc-401b-418e-a54a-c602f7b1422d",
   "metadata": {},
   "outputs": [],
   "source": [
    "import pandas as pd"
   ]
  },
  {
   "cell_type": "code",
   "execution_count": 2,
   "id": "9b94d370-9e8b-41ef-a919-3107e0761991",
   "metadata": {},
   "outputs": [],
   "source": [
    "classification = pd.read_csv('classification.csv').rename(columns={'Unnamed: 0': 'image_id'}).set_index('image_id')\n",
    "descriptive_features = pd.read_csv('descriptive_features.csv').rename(columns={'Unnamed: 0': 'image_id'}).set_index('image_id')\n",
    "mra_features = pd.read_csv('mra_features.csv').rename(columns={'Unnamed: 0': 'image_id'}).set_index('image_id')\n",
    "tri_features = pd.read_csv('tri_features.csv').rename(columns={'Unnamed: 0': 'image_id'}).set_index('image_id')\n",
    "variogram_features = pd.read_csv('variogram_features.csv').rename(columns={'Unnamed: 0': 'image_id'}).set_index('image_id')\n",
    "gini_features = pd.read_csv('gini_features.csv').rename(columns={'Unnamed: 0': 'image_id'}).set_index('image_id')\n",
    "\n",
    "features = [\n",
    "    classification,\n",
    "    descriptive_features,\n",
    "    mra_features,\n",
    "    tri_features,\n",
    "    variogram_features,\n",
    "    gini_features\n",
    "]\n",
    "\n",
    "df = pd.concat(features, axis=1)"
   ]
  },
  {
   "cell_type": "code",
   "execution_count": 6,
   "id": "c0766105-d6fa-404d-80d3-2a61fb3d17be",
   "metadata": {},
   "outputs": [],
   "source": [
    "df.to_csv('data/X.csv')"
   ]
  },
  {
   "cell_type": "code",
   "execution_count": 5,
   "id": "b3833184-e1d2-4b77-b01c-2b1b012d886f",
   "metadata": {},
   "outputs": [
    {
     "data": {
      "text/plain": [
       "Index(['classification', 'min', 'max', 'mean', 'sd', 'range', 'sum', 'zeroes',\n",
       "       'duplicates', 'mra_D1_min', 'mra_D1_max', 'mra_D1_mean', 'mra_D1_sd',\n",
       "       'mra_D1_range', 'mra_D1_zero', 'mra_D2_min', 'mra_D2_max',\n",
       "       'mra_D2_mean', 'mra_D2_sd', 'mra_D2_range', 'mra_D2_zero', 'mra_D3_min',\n",
       "       'mra_D3_max', 'mra_D3_mean', 'mra_D3_sd', 'mra_D3_range', 'mra_D3_zero',\n",
       "       'tri_min', 'tri_max', 'tri_mean', 'tri_sd', 'tri_range', 'var_sill',\n",
       "       'var_range', 'var_kappa', 'g', 'zeros'],\n",
       "      dtype='object')"
      ]
     },
     "execution_count": 5,
     "metadata": {},
     "output_type": "execute_result"
    }
   ],
   "source": [
    "df.columns"
   ]
  },
  {
   "cell_type": "code",
   "execution_count": null,
   "id": "da37bb0a-e5bc-42ea-9b50-e96f2f32a1f4",
   "metadata": {},
   "outputs": [],
   "source": []
  }
 ],
 "metadata": {
  "kernelspec": {
   "display_name": "Python 3 (ipykernel)",
   "language": "python",
   "name": "python3"
  },
  "language_info": {
   "codemirror_mode": {
    "name": "ipython",
    "version": 3
   },
   "file_extension": ".py",
   "mimetype": "text/x-python",
   "name": "python",
   "nbconvert_exporter": "python",
   "pygments_lexer": "ipython3",
   "version": "3.8.2"
  }
 },
 "nbformat": 4,
 "nbformat_minor": 5
}
