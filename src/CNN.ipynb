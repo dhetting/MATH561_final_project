{
 "cells": [
  {
   "cell_type": "code",
   "execution_count": 28,
   "id": "429a7257-7947-4507-94a9-fdfa53600368",
   "metadata": {},
   "outputs": [],
   "source": [
    "import os\n",
    "\n",
    "import matplotlib.pyplot as plt\n",
    "import numpy as np\n",
    "import pandas as pd\n",
    "import seaborn as sns\n",
    "import tensorflow as tf\n",
    "\n",
    "from glob import glob\n",
    "from os.path import join\n",
    "from PIL import Image\n",
    "from sklearn.metrics import confusion_matrix, f1_score, accuracy_score\n",
    "from tensorflow.keras import Input, layers\n",
    "from tensorflow.keras.callbacks import ModelCheckpoint\n",
    "from tensorflow.keras.layers import Dense, Flatten, Conv2D, MaxPooling2D, Dropout, BatchNormalization\n",
    "from tensorflow.keras.models import  Sequential, Model, load_model\n",
    "from tensorflow.keras.preprocessing.image import ImageDataGenerator\n",
    "\n",
    "%matplotlib inline"
   ]
  },
  {
   "cell_type": "code",
   "execution_count": 2,
   "id": "1fef45e8-4707-4c41-bfd8-1e43839d90cb",
   "metadata": {},
   "outputs": [],
   "source": [
    "def get_ImageDataGenerator_augmented(validation_split=None):\n",
    "    image_generator = ImageDataGenerator(rescale=(1/255.),\n",
    "                                         rotation_range=40,\n",
    "                                         width_shift_range=0.2,\n",
    "                                         height_shift_range=0.2,\n",
    "                                         shear_range=0.2,\n",
    "                                         zoom_range=0.1,\n",
    "                                         brightness_range=[0.8,1.2],\n",
    "                                         horizontal_flip=True,\n",
    "                                         vertical_flip=True,\n",
    "                                         validation_split=validation_split)\n",
    "    return image_generator "
   ]
  },
  {
   "cell_type": "code",
   "execution_count": 3,
   "id": "63713360-94c7-4ec6-a8ef-845de53ad788",
   "metadata": {},
   "outputs": [],
   "source": [
    "def get_generator(image_data_generator, directory, train_valid=None, seed=None):\n",
    "    train_generator = image_data_generator.flow_from_directory(directory, \n",
    "                                                               batch_size=32, \n",
    "                                                               class_mode='categorical', \n",
    "                                                               target_size=(288, 192), \n",
    "                                                               subset=train_valid, \n",
    "                                                               seed=seed)    \n",
    "\n",
    "    return train_generator"
   ]
  },
  {
   "cell_type": "code",
   "execution_count": 25,
   "id": "55ecedd3-95ee-4b24-aeb8-ca85938b0c35",
   "metadata": {},
   "outputs": [],
   "source": [
    "def train_model(model, train_gen, valid_gen, epochs, checkpoint):\n",
    "    train_steps_per_epoch = train_gen.n // train_gen.batch_size\n",
    "    val_steps = valid_gen.n // valid_gen.batch_size\n",
    "    \n",
    "    earlystopping = tf.keras.callbacks.EarlyStopping(patience=15)\n",
    "    \n",
    "    callbacks = [checkpoint, earlystopping]\n",
    "    \n",
    "    history = model.fit(train_gen, \n",
    "                        steps_per_epoch = train_steps_per_epoch,\n",
    "                        epochs=epochs,\n",
    "                        validation_data=valid_gen,\n",
    "                        callbacks=callbacks)\n",
    "    \n",
    "    return history"
   ]
  },
  {
   "cell_type": "code",
   "execution_count": 5,
   "id": "814e6ff5-2052-4e24-bc51-8985d7decf58",
   "metadata": {
    "tags": []
   },
   "outputs": [],
   "source": [
    "def test(model, images):\n",
    "    _predictions = []\n",
    "    predictions = []\n",
    "    truths = []\n",
    "    ids = []\n",
    "\n",
    "    for image in images:\n",
    "        _id = int(os.path.splitext(os.path.basename(image))[0])\n",
    "        truth = image.split('/')[-2]\n",
    "\n",
    "        im_frame = Image.open(image)\n",
    "        np_frame = np.array(im_frame.getdata(), dtype=np.float32).reshape([1, 288, 192, 3])\n",
    "\n",
    "        _prediction = model.predict(np_frame)\n",
    "        prediction = target_labels[np.argmax(_prediction)]\n",
    "\n",
    "        _predictions.append(_prediction)\n",
    "        predictions.append(prediction)\n",
    "        truths.append(truth)\n",
    "        ids.append(_id)\n",
    "\n",
    "    correct = 0\n",
    "    for i, j in enumerate(truths):\n",
    "        correct += predictions[i] == j\n",
    "\n",
    "    return correct/len(images)"
   ]
  },
  {
   "cell_type": "code",
   "execution_count": 6,
   "id": "665648ab-7d02-4c9d-8a26-da498ad467ac",
   "metadata": {},
   "outputs": [],
   "source": [
    "def predict(model, images):\n",
    "    _predictions = []\n",
    "    predictions = []\n",
    "    truths = []\n",
    "    ids = []\n",
    "\n",
    "    for image in images:\n",
    "        _id = int(os.path.splitext(os.path.basename(image))[0])\n",
    "        truth = image.split('/')[-2]\n",
    "\n",
    "        im_frame = Image.open(image)\n",
    "        np_frame = np.array(im_frame.getdata(), dtype=np.float32).reshape([1, 288, 192, 3])\n",
    "\n",
    "        _prediction = model.predict(np_frame)\n",
    "        prediction = target_labels[np.argmax(_prediction)]\n",
    "\n",
    "        _predictions.append(_prediction)\n",
    "        predictions.append(prediction)\n",
    "        truths.append(truth)\n",
    "        ids.append(_id)\n",
    "\n",
    "    correct = 0\n",
    "    for i, j in enumerate(truths):\n",
    "        correct += predictions[i] == j\n",
    "\n",
    "    return {'prediction': predictions, 'truth': truths, 'id': ids}"
   ]
  },
  {
   "cell_type": "markdown",
   "id": "0ad38179-96ca-4ded-b5d9-f9985f1e4920",
   "metadata": {},
   "source": [
    "### set image directories"
   ]
  },
  {
   "cell_type": "code",
   "execution_count": 7,
   "id": "9e1f0598-951e-4754-8cf4-9c8432c01bcf",
   "metadata": {},
   "outputs": [],
   "source": [
    "directory_train = join('..', 'data', 'original_images', 'train')\n",
    "directory_validate = join('..', 'data', 'original_images', 'validate')\n",
    "directory_test = join('..', 'data', 'original_images', 'test')"
   ]
  },
  {
   "cell_type": "markdown",
   "id": "d18a8c9c-e9d4-43c1-acdf-d881bc602455",
   "metadata": {},
   "source": [
    "### collect validate and test images"
   ]
  },
  {
   "cell_type": "code",
   "execution_count": 8,
   "id": "21859245-3709-463e-83c4-15f663001db3",
   "metadata": {},
   "outputs": [],
   "source": [
    "test_images = glob(join('..', 'data', 'original_images', 'test', '*', '*.png'))\n",
    "validate_images = glob(join('..', 'data', 'original_images', 'validate', '*', '*.png'))"
   ]
  },
  {
   "cell_type": "markdown",
   "id": "dd2796f9-7fcd-4dc8-8fda-3a2eea8f8651",
   "metadata": {},
   "source": [
    "### set target labels"
   ]
  },
  {
   "cell_type": "code",
   "execution_count": 17,
   "id": "797b2f24-dd23-4106-a429-2dc0016a0104",
   "metadata": {},
   "outputs": [],
   "source": [
    "target_labels = np.array(next(os.walk(directory_train))[1])"
   ]
  },
  {
   "cell_type": "markdown",
   "id": "3464ac7a-3e9a-45a3-9c68-2ff909c9bd2b",
   "metadata": {},
   "source": [
    "### build model"
   ]
  },
  {
   "cell_type": "code",
   "execution_count": 31,
   "id": "033fbb29-2205-4844-8adf-e1f226020eac",
   "metadata": {},
   "outputs": [],
   "source": [
    "def get_model(input_shape):\n",
    "    x = Input(shape=input_shape)\n",
    "    h = Conv2D(32, padding='same', kernel_size=(3,3), activation='relu')(x)\n",
    "    h = Conv2D(32, padding='same', kernel_size=(3,3), activation='relu')(h)\n",
    "    h = MaxPooling2D(pool_size=(2,2))(h)\n",
    "    h = Flatten()(h)\n",
    "    h = Dense(128, activation='relu')(h)\n",
    "    output = Dense(target_labels.shape[0], activation='softmax')(h)\n",
    "\n",
    "    model = tf.keras.Model(inputs=x, outputs=output)\n",
    "    \n",
    "    model.compile(optimizer='adam',\n",
    "             loss='categorical_crossentropy',\n",
    "             metrics=['accuracy'])\n",
    "\n",
    "    return model"
   ]
  },
  {
   "cell_type": "markdown",
   "id": "bff8639b-6d07-4916-8bd9-c949ce08f058",
   "metadata": {
    "tags": []
   },
   "source": [
    "### train model"
   ]
  },
  {
   "cell_type": "code",
   "execution_count": 38,
   "id": "f89669a7-bd18-45af-8c73-2bee7f3fdff6",
   "metadata": {},
   "outputs": [],
   "source": [
    "model_fpath = join('..', 'models', 'CNN.h5')\n",
    "checkpoint = ModelCheckpoint(filepath=model_fpath, \n",
    "                             monitor='val_accuracy',\n",
    "                             verbose=1, \n",
    "                             save_best_only=True,\n",
    "                             mode='max')"
   ]
  },
  {
   "cell_type": "code",
   "execution_count": 39,
   "id": "a3ce244e-92a8-441c-893e-b3838c293b38",
   "metadata": {},
   "outputs": [
    {
     "name": "stdout",
     "output_type": "stream",
     "text": [
      "Found 639 images belonging to 3 classes.\n",
      "Found 71 images belonging to 3 classes.\n",
      "Train for 19 steps, validate for 3 steps\n",
      "Epoch 1/150\n",
      "18/19 [===========================>..] - ETA: 1s - loss: 5.7690 - accuracy: 0.5304\n",
      "Epoch 00001: val_accuracy improved from -inf to 0.80282, saving model to ../models/CNN2.h5\n",
      "19/19 [==============================] - 33s 2s/step - loss: 5.5038 - accuracy: 0.5404 - val_loss: 0.4452 - val_accuracy: 0.8028\n",
      "Epoch 2/150\n",
      "18/19 [===========================>..] - ETA: 1s - loss: 0.7355 - accuracy: 0.6365\n",
      "Epoch 00002: val_accuracy did not improve from 0.80282\n",
      "19/19 [==============================] - 32s 2s/step - loss: 0.7251 - accuracy: 0.6442 - val_loss: 0.5741 - val_accuracy: 0.8028\n",
      "Epoch 3/150\n",
      "18/19 [===========================>..] - ETA: 1s - loss: 0.6449 - accuracy: 0.7165\n",
      "Epoch 00003: val_accuracy did not improve from 0.80282\n",
      "19/19 [==============================] - 33s 2s/step - loss: 0.6422 - accuracy: 0.7199 - val_loss: 0.4923 - val_accuracy: 0.6197\n",
      "Epoch 4/150\n",
      "18/19 [===========================>..] - ETA: 1s - loss: 0.6653 - accuracy: 0.6817\n",
      "Epoch 00004: val_accuracy did not improve from 0.80282\n",
      "19/19 [==============================] - 34s 2s/step - loss: 0.6601 - accuracy: 0.6853 - val_loss: 0.4336 - val_accuracy: 0.6901\n",
      "Epoch 5/150\n",
      "18/19 [===========================>..] - ETA: 1s - loss: 0.6239 - accuracy: 0.7083\n",
      "Epoch 00005: val_accuracy did not improve from 0.80282\n",
      "19/19 [==============================] - 34s 2s/step - loss: 0.6258 - accuracy: 0.7072 - val_loss: 0.5350 - val_accuracy: 0.6479\n",
      "Epoch 6/150\n",
      "18/19 [===========================>..] - ETA: 1s - loss: 0.5758 - accuracy: 0.7391\n",
      "Epoch 00006: val_accuracy did not improve from 0.80282\n",
      "19/19 [==============================] - 34s 2s/step - loss: 0.5655 - accuracy: 0.7430 - val_loss: 0.2719 - val_accuracy: 0.7887\n",
      "Epoch 7/150\n",
      "18/19 [===========================>..] - ETA: 1s - loss: 0.5549 - accuracy: 0.7361\n",
      "Epoch 00007: val_accuracy did not improve from 0.80282\n",
      "19/19 [==============================] - 32s 2s/step - loss: 0.5505 - accuracy: 0.7352 - val_loss: 0.4848 - val_accuracy: 0.6197\n",
      "Epoch 8/150\n",
      "18/19 [===========================>..] - ETA: 1s - loss: 0.4941 - accuracy: 0.7670\n",
      "Epoch 00008: val_accuracy did not improve from 0.80282\n",
      "19/19 [==============================] - 36s 2s/step - loss: 0.4989 - accuracy: 0.7644 - val_loss: 0.4185 - val_accuracy: 0.7183\n",
      "Epoch 9/150\n",
      "18/19 [===========================>..] - ETA: 2s - loss: 0.4600 - accuracy: 0.8021\n",
      "Epoch 00009: val_accuracy did not improve from 0.80282\n",
      "19/19 [==============================] - 41s 2s/step - loss: 0.4688 - accuracy: 0.7990 - val_loss: 0.5817 - val_accuracy: 0.6901\n",
      "Epoch 10/150\n",
      "18/19 [===========================>..] - ETA: 1s - loss: 0.4761 - accuracy: 0.7878\n",
      "Epoch 00010: val_accuracy did not improve from 0.80282\n",
      "19/19 [==============================] - 36s 2s/step - loss: 0.4721 - accuracy: 0.7924 - val_loss: 0.6364 - val_accuracy: 0.6338\n",
      "Epoch 11/150\n",
      "18/19 [===========================>..] - ETA: 1s - loss: 0.5274 - accuracy: 0.7687\n",
      "Epoch 00011: val_accuracy did not improve from 0.80282\n",
      "19/19 [==============================] - 32s 2s/step - loss: 0.5187 - accuracy: 0.7776 - val_loss: 0.6712 - val_accuracy: 0.7465\n",
      "Epoch 12/150\n",
      "18/19 [===========================>..] - ETA: 1s - loss: 0.4614 - accuracy: 0.8191\n",
      "Epoch 00012: val_accuracy improved from 0.80282 to 0.95775, saving model to ../models/CNN2.h5\n",
      "19/19 [==============================] - 33s 2s/step - loss: 0.4564 - accuracy: 0.8221 - val_loss: 0.2455 - val_accuracy: 0.9577\n",
      "Epoch 13/150\n",
      "18/19 [===========================>..] - ETA: 1s - loss: 0.4362 - accuracy: 0.8365\n",
      "Epoch 00013: val_accuracy did not improve from 0.95775\n",
      "19/19 [==============================] - 32s 2s/step - loss: 0.4437 - accuracy: 0.8287 - val_loss: 0.3787 - val_accuracy: 0.8873\n",
      "Epoch 14/150\n",
      "18/19 [===========================>..] - ETA: 1s - loss: 0.3987 - accuracy: 0.8365\n",
      "Epoch 00014: val_accuracy did not improve from 0.95775\n",
      "19/19 [==============================] - 32s 2s/step - loss: 0.3942 - accuracy: 0.8369 - val_loss: 0.4273 - val_accuracy: 0.7887\n",
      "Epoch 15/150\n",
      "18/19 [===========================>..] - ETA: 1s - loss: 0.3868 - accuracy: 0.8417\n",
      "Epoch 00015: val_accuracy did not improve from 0.95775\n",
      "19/19 [==============================] - 32s 2s/step - loss: 0.3816 - accuracy: 0.8435 - val_loss: 0.3316 - val_accuracy: 0.8451\n",
      "Epoch 16/150\n",
      "18/19 [===========================>..] - ETA: 1s - loss: 0.4282 - accuracy: 0.8087\n",
      "Epoch 00016: val_accuracy did not improve from 0.95775\n",
      "19/19 [==============================] - 32s 2s/step - loss: 0.4223 - accuracy: 0.8122 - val_loss: 0.3529 - val_accuracy: 0.8451\n",
      "Epoch 17/150\n",
      "18/19 [===========================>..] - ETA: 1s - loss: 0.4156 - accuracy: 0.8296\n",
      "Epoch 00017: val_accuracy did not improve from 0.95775\n",
      "19/19 [==============================] - 32s 2s/step - loss: 0.4111 - accuracy: 0.8287 - val_loss: 0.2939 - val_accuracy: 0.8451\n",
      "Epoch 18/150\n",
      "18/19 [===========================>..] - ETA: 1s - loss: 0.3728 - accuracy: 0.8452\n",
      "Epoch 00018: val_accuracy did not improve from 0.95775\n",
      "19/19 [==============================] - 32s 2s/step - loss: 0.3737 - accuracy: 0.8435 - val_loss: 0.2127 - val_accuracy: 0.9296\n",
      "Epoch 19/150\n",
      "18/19 [===========================>..] - ETA: 1s - loss: 0.4054 - accuracy: 0.8035\n",
      "Epoch 00019: val_accuracy did not improve from 0.95775\n",
      "19/19 [==============================] - 31s 2s/step - loss: 0.4074 - accuracy: 0.8072 - val_loss: 0.2962 - val_accuracy: 0.9014\n",
      "Epoch 20/150\n",
      "18/19 [===========================>..] - ETA: 1s - loss: 0.4004 - accuracy: 0.8330\n",
      "Epoch 00020: val_accuracy did not improve from 0.95775\n",
      "19/19 [==============================] - 32s 2s/step - loss: 0.4061 - accuracy: 0.8287 - val_loss: 0.5998 - val_accuracy: 0.6056\n",
      "Epoch 21/150\n",
      "18/19 [===========================>..] - ETA: 1s - loss: 0.3733 - accuracy: 0.8470\n",
      "Epoch 00021: val_accuracy did not improve from 0.95775\n",
      "19/19 [==============================] - 32s 2s/step - loss: 0.3756 - accuracy: 0.8451 - val_loss: 0.3492 - val_accuracy: 0.8169\n",
      "Epoch 22/150\n",
      "18/19 [===========================>..] - ETA: 1s - loss: 0.3821 - accuracy: 0.8417\n",
      "Epoch 00022: val_accuracy did not improve from 0.95775\n",
      "19/19 [==============================] - 34s 2s/step - loss: 0.3770 - accuracy: 0.8451 - val_loss: 0.2933 - val_accuracy: 0.8873\n",
      "Epoch 23/150\n",
      "18/19 [===========================>..] - ETA: 1s - loss: 0.3556 - accuracy: 0.8435\n",
      "Epoch 00023: val_accuracy did not improve from 0.95775\n",
      "19/19 [==============================] - 32s 2s/step - loss: 0.3476 - accuracy: 0.8484 - val_loss: 0.4557 - val_accuracy: 0.7887\n",
      "Epoch 24/150\n",
      "18/19 [===========================>..] - ETA: 1s - loss: 0.3900 - accuracy: 0.8487\n",
      "Epoch 00024: val_accuracy did not improve from 0.95775\n",
      "19/19 [==============================] - 32s 2s/step - loss: 0.3937 - accuracy: 0.8517 - val_loss: 0.5381 - val_accuracy: 0.6479\n",
      "Epoch 25/150\n",
      "18/19 [===========================>..] - ETA: 1s - loss: 0.3940 - accuracy: 0.8400\n",
      "Epoch 00025: val_accuracy did not improve from 0.95775\n",
      "19/19 [==============================] - 32s 2s/step - loss: 0.3937 - accuracy: 0.8418 - val_loss: 0.4873 - val_accuracy: 0.7746\n",
      "Epoch 26/150\n",
      "18/19 [===========================>..] - ETA: 1s - loss: 0.3938 - accuracy: 0.8330\n",
      "Epoch 00026: val_accuracy did not improve from 0.95775\n",
      "19/19 [==============================] - 32s 2s/step - loss: 0.3913 - accuracy: 0.8320 - val_loss: 0.5376 - val_accuracy: 0.6620\n",
      "Epoch 27/150\n",
      "18/19 [===========================>..] - ETA: 1s - loss: 0.3629 - accuracy: 0.8591\n",
      "Epoch 00027: val_accuracy did not improve from 0.95775\n",
      "19/19 [==============================] - 35s 2s/step - loss: 0.3546 - accuracy: 0.8649 - val_loss: 0.4247 - val_accuracy: 0.8169\n",
      "Epoch 28/150\n",
      "18/19 [===========================>..] - ETA: 1s - loss: 0.3263 - accuracy: 0.8626\n",
      "Epoch 00028: val_accuracy did not improve from 0.95775\n",
      "19/19 [==============================] - 32s 2s/step - loss: 0.3381 - accuracy: 0.8616 - val_loss: 0.3565 - val_accuracy: 0.8873\n",
      "Epoch 29/150\n",
      "18/19 [===========================>..] - ETA: 1s - loss: 0.3054 - accuracy: 0.8852\n",
      "Epoch 00029: val_accuracy did not improve from 0.95775\n",
      "19/19 [==============================] - 32s 2s/step - loss: 0.3026 - accuracy: 0.8880 - val_loss: 0.3392 - val_accuracy: 0.8169\n",
      "Epoch 30/150\n",
      "18/19 [===========================>..] - ETA: 1s - loss: 0.3162 - accuracy: 0.8539\n",
      "Epoch 00030: val_accuracy did not improve from 0.95775\n",
      "19/19 [==============================] - 32s 2s/step - loss: 0.3147 - accuracy: 0.8534 - val_loss: 0.2651 - val_accuracy: 0.8592\n",
      "Epoch 31/150\n",
      "18/19 [===========================>..] - ETA: 1s - loss: 0.2921 - accuracy: 0.8958\n",
      "Epoch 00031: val_accuracy did not improve from 0.95775\n",
      "19/19 [==============================] - 32s 2s/step - loss: 0.2887 - accuracy: 0.8946 - val_loss: 0.6071 - val_accuracy: 0.7465\n",
      "Epoch 32/150\n",
      "18/19 [===========================>..] - ETA: 1s - loss: 0.3322 - accuracy: 0.8783\n",
      "Epoch 00032: val_accuracy did not improve from 0.95775\n",
      "19/19 [==============================] - 31s 2s/step - loss: 0.3358 - accuracy: 0.8781 - val_loss: 0.4597 - val_accuracy: 0.7887\n",
      "Epoch 33/150\n",
      "18/19 [===========================>..] - ETA: 1s - loss: 0.4341 - accuracy: 0.8348\n",
      "Epoch 00033: val_accuracy did not improve from 0.95775\n",
      "19/19 [==============================] - 32s 2s/step - loss: 0.4299 - accuracy: 0.8386 - val_loss: 0.4320 - val_accuracy: 0.8028\n"
     ]
    }
   ],
   "source": [
    "model = get_model((288, 192, 3))\n",
    "\n",
    "image_gen_train_aug = get_ImageDataGenerator_augmented(validation_split=0.1)\n",
    "train_generator_aug = get_generator(image_gen_train_aug, directory_train, train_valid='training', seed=1)\n",
    "validation_generator_aug = get_generator(image_gen_train_aug, directory_train, train_valid='validation')\n",
    "\n",
    "history = train_model(model,\n",
    "                      train_generator_aug,\n",
    "                      validation_generator_aug,\n",
    "                      epochs=150,\n",
    "                      checkpoint=checkpoint\n",
    "                     )"
   ]
  },
  {
   "cell_type": "markdown",
   "id": "0a4a246a-14a3-4412-bcdf-b52a0e981e00",
   "metadata": {},
   "source": [
    "### plot training history"
   ]
  },
  {
   "cell_type": "code",
   "execution_count": 40,
   "id": "ba1b10df-b356-42d0-9b17-22a486dd9e65",
   "metadata": {},
   "outputs": [
    {
     "data": {
      "image/png": "[encoded data removed]",
      "text/plain": [
       "<Figure size 1080x360 with 2 Axes>"
      ]
     },
     "metadata": {
      "needs_background": "light"
     },
     "output_type": "display_data"
    }
   ],
   "source": [
    "plt.figure(figsize=(15, 5))\n",
    "plt.subplot(121)\n",
    "plt.plot(history.history['accuracy'])\n",
    "plt.plot(history.history['val_accuracy'])\n",
    "plt.title('Accuracy vs. Epochs')\n",
    "plt.ylabel('Accuracy')\n",
    "plt.xlabel('Epoch')\n",
    "plt.legend(['Training', 'Validation'], loc='lower right')\n",
    "\n",
    "plt.subplot(122)\n",
    "plt.plot(history.history['loss'])\n",
    "plt.plot(history.history['val_loss'])\n",
    "plt.title('Loss vs. Epochs')\n",
    "plt.ylabel('Loss')\n",
    "plt.xlabel('Epoch')\n",
    "plt.legend(['Training', 'Validation'], loc='upper right')\n",
    "plt.show() "
   ]
  },
  {
   "cell_type": "markdown",
   "id": "e9ee0c17-b1db-4768-9277-34d2ac05d268",
   "metadata": {},
   "source": [
    "### load model"
   ]
  },
  {
   "cell_type": "code",
   "execution_count": 43,
   "id": "c7647d3c-3ddd-4234-ab81-47812342f599",
   "metadata": {},
   "outputs": [],
   "source": [
    "model = load_model(model_fpath, compile = True)"
   ]
  },
  {
   "cell_type": "markdown",
   "id": "b96032ac-598d-44bf-89fe-4017b9f2b03e",
   "metadata": {},
   "source": [
    "### get test predictions"
   ]
  },
  {
   "cell_type": "code",
   "execution_count": 44,
   "id": "7b73f548-2a0a-48f3-9762-0d65429d5422",
   "metadata": {},
   "outputs": [],
   "source": [
    "results = pd.DataFrame(predict(model=model, images=test_images))"
   ]
  },
  {
   "cell_type": "markdown",
   "id": "7ce638e5-eca0-4c20-8ccd-0fdb3fee9134",
   "metadata": {},
   "source": [
    "### evaluate test predictions"
   ]
  },
  {
   "cell_type": "code",
   "execution_count": 60,
   "id": "569934ad-c76d-4f46-b7ff-0d2781e082d9",
   "metadata": {},
   "outputs": [
    {
     "data": {
      "text/plain": [
       "0.5925925925925926"
      ]
     },
     "execution_count": 60,
     "metadata": {},
     "output_type": "execute_result"
    }
   ],
   "source": [
    "accuracy_score(y_true=results.truth, y_pred=results.prediction)"
   ]
  },
  {
   "cell_type": "code",
   "execution_count": 45,
   "id": "8084166c-6ed0-4fac-a7fe-a817a0148c17",
   "metadata": {},
   "outputs": [
    {
     "data": {
      "text/plain": [
       "0.6029694738555498"
      ]
     },
     "execution_count": 45,
     "metadata": {},
     "output_type": "execute_result"
    }
   ],
   "source": [
    "f1_score(y_true=results.truth, y_pred=results.prediction, average='weighted')"
   ]
  },
  {
   "cell_type": "code",
   "execution_count": 46,
   "id": "71bfc44e-f7db-44d1-8d53-3fc3625949c2",
   "metadata": {},
   "outputs": [],
   "source": [
    "cf_matrix = confusion_matrix(y_true=results.truth, y_pred=results.prediction)"
   ]
  },
  {
   "cell_type": "code",
   "execution_count": 47,
   "id": "f654c702-034a-4d30-b845-9cfea5e32df1",
   "metadata": {},
   "outputs": [
    {
     "data": {
      "image/png": "[encoded data removed]",
      "text/plain": [
       "<Figure size 432x288 with 2 Axes>"
      ]
     },
     "metadata": {
      "needs_background": "light"
     },
     "output_type": "display_data"
    }
   ],
   "source": [
    "ax = sns.heatmap(cf_matrix, annot=True)\n",
    "ax.set(\n",
    "    title='CNN Confusion Matrix',\n",
    ")\n",
    "ax.set_xticklabels(['high', 'low', 'med'])\n",
    "_ = ax.set_yticklabels(['high', 'low', 'med'])"
   ]
  },
  {
   "cell_type": "markdown",
   "id": "87751455-e4ac-4217-88b0-5434442336c1",
   "metadata": {},
   "source": [
    "### make final predictions"
   ]
  },
  {
   "cell_type": "code",
   "execution_count": 52,
   "id": "ee00ac15-ab16-469b-a5fb-bc9adf683200",
   "metadata": {},
   "outputs": [],
   "source": [
    "final_test_images = glob(join('..', 'data', 'original_images', 'final_test', '*.png'))"
   ]
  },
  {
   "cell_type": "code",
   "execution_count": 62,
   "id": "492da037-0a96-4b59-9710-9babd0933793",
   "metadata": {},
   "outputs": [],
   "source": [
    "final_results = pd.DataFrame(predict(model=model, images=final_test_images))[['prediction', 'id']].sort_values('id')"
   ]
  },
  {
   "cell_type": "code",
   "execution_count": 63,
   "id": "ba230651-314c-4b11-bff7-8bc9b35b464b",
   "metadata": {},
   "outputs": [
    {
     "data": {
      "text/html": [
       "<div>\n",
       "<style scoped>\n",
       "    .dataframe tbody tr th:only-of-type {\n",
       "        vertical-align: middle;\n",
       "    }\n",
       "\n",
       "    .dataframe tbody tr th {\n",
       "        vertical-align: top;\n",
       "    }\n",
       "\n",
       "    .dataframe thead th {\n",
       "        text-align: right;\n",
       "    }\n",
       "</style>\n",
       "<table border=\"1\" class=\"dataframe\">\n",
       "  <thead>\n",
       "    <tr style=\"text-align: right;\">\n",
       "      <th></th>\n",
       "      <th>prediction</th>\n",
       "      <th>id</th>\n",
       "    </tr>\n",
       "  </thead>\n",
       "  <tbody>\n",
       "    <tr>\n",
       "      <th>254</th>\n",
       "      <td>high</td>\n",
       "      <td>1</td>\n",
       "    </tr>\n",
       "    <tr>\n",
       "      <th>230</th>\n",
       "      <td>high</td>\n",
       "      <td>2</td>\n",
       "    </tr>\n",
       "    <tr>\n",
       "      <th>236</th>\n",
       "      <td>low</td>\n",
       "      <td>3</td>\n",
       "    </tr>\n",
       "    <tr>\n",
       "      <th>175</th>\n",
       "      <td>med</td>\n",
       "      <td>4</td>\n",
       "    </tr>\n",
       "    <tr>\n",
       "      <th>189</th>\n",
       "      <td>low</td>\n",
       "      <td>5</td>\n",
       "    </tr>\n",
       "    <tr>\n",
       "      <th>...</th>\n",
       "      <td>...</td>\n",
       "      <td>...</td>\n",
       "    </tr>\n",
       "    <tr>\n",
       "      <th>108</th>\n",
       "      <td>low</td>\n",
       "      <td>266</td>\n",
       "    </tr>\n",
       "    <tr>\n",
       "      <th>109</th>\n",
       "      <td>high</td>\n",
       "      <td>267</td>\n",
       "    </tr>\n",
       "    <tr>\n",
       "      <th>138</th>\n",
       "      <td>low</td>\n",
       "      <td>268</td>\n",
       "    </tr>\n",
       "    <tr>\n",
       "      <th>133</th>\n",
       "      <td>high</td>\n",
       "      <td>269</td>\n",
       "    </tr>\n",
       "    <tr>\n",
       "      <th>99</th>\n",
       "      <td>low</td>\n",
       "      <td>270</td>\n",
       "    </tr>\n",
       "  </tbody>\n",
       "</table>\n",
       "<p>270 rows × 2 columns</p>\n",
       "</div>"
      ],
      "text/plain": [
       "    prediction   id\n",
       "254       high    1\n",
       "230       high    2\n",
       "236        low    3\n",
       "175        med    4\n",
       "189        low    5\n",
       "..         ...  ...\n",
       "108        low  266\n",
       "109       high  267\n",
       "138        low  268\n",
       "133       high  269\n",
       "99         low  270\n",
       "\n",
       "[270 rows x 2 columns]"
      ]
     },
     "execution_count": 63,
     "metadata": {},
     "output_type": "execute_result"
    }
   ],
   "source": [
    "final_results"
   ]
  },
  {
   "cell_type": "code",
   "execution_count": 58,
   "id": "205e3c2f-00bd-44ed-83e7-57e403e575f4",
   "metadata": {},
   "outputs": [],
   "source": [
    "final_results.to_csv(join('..', 'data', 'CNN_final_predictions.csv'), index=False)"
   ]
  },
  {
   "cell_type": "code",
   "execution_count": null,
   "id": "5d244d94-2a8d-403b-8e36-1d3e85901f73",
   "metadata": {},
   "outputs": [],
   "source": []
  }
 ],
 "metadata": {
  "kernelspec": {
   "display_name": "Python 3",
   "language": "python",
   "name": "python3"
  },
  "language_info": {
   "codemirror_mode": {
    "name": "ipython",
    "version": 3
   },
   "file_extension": ".py",
   "mimetype": "text/x-python",
   "name": "python",
   "nbconvert_exporter": "python",
   "pygments_lexer": "ipython3",
   "version": "3.7.7"
  }
 },
 "nbformat": 4,
 "nbformat_minor": 5
}
