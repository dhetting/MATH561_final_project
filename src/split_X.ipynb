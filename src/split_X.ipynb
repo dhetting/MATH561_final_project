{
 "cells": [
  {
   "cell_type": "code",
   "execution_count": 11,
   "id": "cffea2da-2788-4922-91ad-8b09c9f60fdf",
   "metadata": {},
   "outputs": [],
   "source": [
    "import pandas as pd\n",
    "import numpy as np"
   ]
  },
  {
   "cell_type": "code",
   "execution_count": 12,
   "id": "8de48ca1-eaac-4519-a5ea-7473c7f64624",
   "metadata": {},
   "outputs": [],
   "source": [
    "df = pd.read_csv('../data/X.csv')"
   ]
  },
  {
   "cell_type": "code",
   "execution_count": 13,
   "id": "df60e267-1cfe-4a12-b850-7c55b0c971c0",
   "metadata": {
    "tags": []
   },
   "outputs": [],
   "source": [
    "np.random.seed(1)"
   ]
  },
  {
   "cell_type": "code",
   "execution_count": 14,
   "id": "b593ae5a-8256-46b3-a936-692480f743cb",
   "metadata": {},
   "outputs": [],
   "source": [
    "train, validate, test = np.split(df.sample(frac=1, random_state=1), [int(.8*len(df)), int(.95*len(df))])"
   ]
  },
  {
   "cell_type": "code",
   "execution_count": 15,
   "id": "164b9511-cd7d-430f-85e1-c53e82ddf049",
   "metadata": {},
   "outputs": [],
   "source": [
    "train_idx = set(train.index)\n",
    "validate_idx = set(validate.index)\n",
    "test_idx = set(test.index)"
   ]
  },
  {
   "cell_type": "code",
   "execution_count": 16,
   "id": "ac510f62-f817-4ddd-92b4-fad2a1580dd8",
   "metadata": {},
   "outputs": [
    {
     "data": {
      "text/plain": [
       "(784, 56)"
      ]
     },
     "execution_count": 16,
     "metadata": {},
     "output_type": "execute_result"
    }
   ],
   "source": [
    "train.shape"
   ]
  },
  {
   "cell_type": "code",
   "execution_count": 17,
   "id": "7b4ed8db-8282-4be3-81fa-e44e8fc57056",
   "metadata": {},
   "outputs": [
    {
     "data": {
      "text/plain": [
       "(147, 56)"
      ]
     },
     "execution_count": 17,
     "metadata": {},
     "output_type": "execute_result"
    }
   ],
   "source": [
    "validate.shape"
   ]
  },
  {
   "cell_type": "code",
   "execution_count": 18,
   "id": "2dbb0c87-c3ea-470e-9143-6ffe17501ecc",
   "metadata": {},
   "outputs": [
    {
     "data": {
      "text/plain": [
       "(49, 56)"
      ]
     },
     "execution_count": 18,
     "metadata": {},
     "output_type": "execute_result"
    }
   ],
   "source": [
    "test.shape"
   ]
  },
  {
   "cell_type": "code",
   "execution_count": 19,
   "id": "63db93e0-9ff8-4557-979b-292e619df0aa",
   "metadata": {},
   "outputs": [],
   "source": [
    "assert not train_idx.intersection(validate_idx)\n",
    "assert not train_idx.intersection(test_idx)\n",
    "assert not validate_idx.intersection(test_idx)"
   ]
  },
  {
   "cell_type": "code",
   "execution_count": 20,
   "id": "a92ff528-9045-4bb3-bbbd-58027899cf3f",
   "metadata": {},
   "outputs": [],
   "source": [
    "train.to_csv('../data/train_X.csv', index=False)\n",
    "validate.to_csv('../data/validate_X.csv', index=False)\n",
    "test.to_csv('../data/test_X.csv', index=False)"
   ]
  }
 ],
 "metadata": {
  "kernelspec": {
   "display_name": "Python 3",
   "language": "python",
   "name": "python3"
  },
  "language_info": {
   "codemirror_mode": {
    "name": "ipython",
    "version": 3
   },
   "file_extension": ".py",
   "mimetype": "text/x-python",
   "name": "python",
   "nbconvert_exporter": "python",
   "pygments_lexer": "ipython3",
   "version": "3.9.5"
  }
 },
 "nbformat": 4,
 "nbformat_minor": 5
}
