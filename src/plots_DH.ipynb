{
 "cells": [
  {
   "cell_type": "code",
   "execution_count": null,
   "id": "25910767-8abc-49ee-bf05-1538c43721a7",
   "metadata": {},
   "outputs": [],
   "source": [
    "import pandas as pd\n",
    "import matplotlib.pyplot as plt\n",
    "import numpy as np\n",
    "import seaborn as sns\n",
    "\n",
    "from sklearn.preprocessing import StandardScaler\n",
    "\n",
    "%matplotlib inline"
   ]
  },
  {
   "cell_type": "markdown",
   "id": "e870b872-b78e-4ca6-9d87-1b2ea6213541",
   "metadata": {},
   "source": [
    "## load data"
   ]
  },
  {
   "cell_type": "code",
   "execution_count": null,
   "id": "e5f226f3-602b-4444-a03f-f80bac09b7d9",
   "metadata": {},
   "outputs": [],
   "source": [
    "df = pd.read_csv('../data/X.csv')"
   ]
  },
  {
   "cell_type": "code",
   "execution_count": null,
   "id": "5ebb61df-2564-4bd0-a227-77a7b56845dc",
   "metadata": {},
   "outputs": [],
   "source": [
    "numeric_columns = ['min', 'max', 'mean', 'sd', 'range',\n",
    "       'sum','duplicates', 'mra_D1_min', 'mra_D1_max', 'mra_D1_mean', 'mra_D1_sd',\n",
    "       'mra_D1_range', 'mra_D1_zero', 'mra_D2_min', 'mra_D2_max',\n",
    "       'mra_D2_mean', 'mra_D2_sd', 'mra_D2_range', 'mra_D2_zero', 'mra_D3_min',\n",
    "       'mra_D3_max', 'mra_D3_mean', 'mra_D3_sd', 'mra_D3_range', 'mra_D3_zero',\n",
    "       'tri_min', 'tri_max', 'tri_mean', 'tri_sd', 'tri_range', 'var_sill',\n",
    "       'var_range', 'var_kappa', 'g', 'zeros']"
   ]
  },
  {
   "cell_type": "markdown",
   "id": "5dca1a3e-59e0-4e75-94c8-652433c31e4d",
   "metadata": {},
   "source": [
    "## scale data"
   ]
  },
  {
   "cell_type": "code",
   "execution_count": null,
   "id": "f08dae8f-bb79-4cac-a23f-8db0e6155e2b",
   "metadata": {},
   "outputs": [],
   "source": [
    "df_scaled = pd.concat([df[['image_id', 'classification']], pd.DataFrame(StandardScaler().fit_transform(df[numeric_columns]), columns=numeric_columns)])"
   ]
  },
  {
   "cell_type": "code",
   "execution_count": null,
   "id": "fc1de2b7-5520-4ab1-9c63-f4a1c27c0771",
   "metadata": {},
   "outputs": [],
   "source": [
    "df_scaled = pd.concat([\n",
    "    df[['image_id', 'classification']],\n",
    "    pd.DataFrame(StandardScaler().fit_transform(df[numeric_columns]), columns=numeric_columns)\n",
    "], axis=1)"
   ]
  },
  {
   "cell_type": "code",
   "execution_count": null,
   "id": "86e45bf7-5a4c-41e1-ab11-c8a9cb532794",
   "metadata": {},
   "outputs": [],
   "source": [
    "df_scaled"
   ]
  },
  {
   "cell_type": "markdown",
   "id": "155a196a-adfe-4acb-8655-56d6964cce58",
   "metadata": {},
   "source": [
    "## define transformations"
   ]
  },
  {
   "cell_type": "code",
   "execution_count": null,
   "id": "944c0c83-0705-40b8-8add-6355fa2dc68c",
   "metadata": {},
   "outputs": [],
   "source": [
    "transformations = {\n",
    "    'log': np.log,\n",
    "    '1x': lambda x: 1/x,\n",
    "    'x2': lambda x: np.power(x, 2),\n",
    "    'sqrt': np.sqrt\n",
    "}"
   ]
  },
  {
   "cell_type": "markdown",
   "id": "f9697f96-416c-407e-bac1-b99317834f1d",
   "metadata": {},
   "source": [
    "## descriptive features"
   ]
  },
  {
   "cell_type": "code",
   "execution_count": null,
   "id": "dc793b81-b47a-4e15-aea1-993edfb9329b",
   "metadata": {},
   "outputs": [],
   "source": [
    "g = sns.pairplot(vars=['min', 'max', 'mean'], data=df_scaled, hue='classification')\n",
    "# g.fig.suptitle('Descriptive Features', y=1.01)\n",
    "g.fig.savefig('../images/descriptive_features_1_pairplot.png')"
   ]
  },
  {
   "cell_type": "code",
   "execution_count": null,
   "id": "cbb7f318-94d5-4e04-912f-5945592f6631",
   "metadata": {},
   "outputs": [],
   "source": [
    "g = sns.pairplot(vars=['sd', 'range', 'sum'], data=df_scaled, hue='classification')\n",
    "# g.fig.suptitle('Descriptive Features', y=1.01)\n",
    "g.fig.savefig('../images/descriptive_features_2_pairplot.png')"
   ]
  },
  {
   "cell_type": "code",
   "execution_count": null,
   "id": "7f233dbd-52ef-4cd1-9a2a-f9f8532d400d",
   "metadata": {},
   "outputs": [],
   "source": [
    "fig, axs = plt.subplots(2, 4, figsize=(15, 5))\n",
    "sns.boxplot(x=\"classification\", y='min', data=df_scaled, ax=axs[0, 0])\n",
    "sns.boxplot(x=\"classification\", y='max', data=df_scaled, ax=axs[0, 1])\n",
    "sns.boxplot(x=\"classification\", y='mean', data=df_scaled, ax=axs[0, 2])\n",
    "sns.boxplot(x=\"classification\", y='sd', data=df_scaled, ax=axs[1, 0])\n",
    "sns.boxplot(x=\"classification\", y='range', data=df_scaled, ax=axs[1, 1])\n",
    "sns.boxplot(x=\"classification\", y='sum', data=df_scaled, ax=axs[1, 3])\n",
    "sns.boxplot(x=\"classification\", y='duplicates', data=df_scaled, ax=axs[1, 2])\n",
    "plt.tight_layout()\n",
    "fig.savefig('../images/descriptive_features_boxplots.png')"
   ]
  },
  {
   "cell_type": "markdown",
   "id": "3d549f12-361f-418c-bc1b-d3379467aefe",
   "metadata": {},
   "source": [
    "## wavelet features"
   ]
  },
  {
   "cell_type": "code",
   "execution_count": null,
   "id": "08724829-ea12-474c-869f-541f6b51f537",
   "metadata": {
    "tags": []
   },
   "outputs": [],
   "source": [
    "g = sns.pairplot(vars=['mra_D1_min', 'mra_D1_max', 'mra_D1_mean', 'mra_D1_sd', 'mra_D1_range', 'mra_D1_zero'], data=df_scaled, hue='classification')\n",
    "# g.fig.suptitle('Wavelet Features (D1)', y=1.01)\n",
    "g.fig.savefig('../images/mra_features_d1_pairplot.png')"
   ]
  },
  {
   "cell_type": "code",
   "execution_count": null,
   "id": "04316d37-7290-49c4-b6d4-13e85d22ab7d",
   "metadata": {
    "tags": []
   },
   "outputs": [],
   "source": [
    "g = sns.pairplot(vars=['mra_D2_min', 'mra_D2_max', 'mra_D2_mean', 'mra_D2_sd', 'mra_D2_range', 'mra_D2_zero'], data=df_scaled, hue='classification')\n",
    "# g.fig.suptitle('Wavelet Features (D2)', y=1.01)\n",
    "g.fig.savefig('../images/mra_features_d2_pairplot.png')"
   ]
  },
  {
   "cell_type": "code",
   "execution_count": null,
   "id": "962f26ff-4e82-4df3-a45f-79c67e70f857",
   "metadata": {
    "tags": []
   },
   "outputs": [],
   "source": [
    "g = sns.pairplot(vars=['mra_D3_min', 'mra_D3_max', 'mra_D3_mean', 'mra_D3_sd', 'mra_D3_range', 'mra_D3_zero'], data=df_scaled, hue='classification')\n",
    "# g.fig.suptitle('Wavelet Features (D3)', y=1.01)\n",
    "g.fig.savefig('../images/mra_features_d3_pairplot.png')"
   ]
  },
  {
   "cell_type": "code",
   "execution_count": null,
   "id": "991827f5-fdea-44ea-9389-be17529fc175",
   "metadata": {
    "tags": []
   },
   "outputs": [],
   "source": [
    "fig, axs = plt.subplots(3, 6, figsize=(20, 8))\n",
    "sns.boxplot(x=\"classification\", y='mra_D1_min', data=df_scaled, ax=axs[0, 0])\n",
    "sns.boxplot(x=\"classification\", y='mra_D1_max', data=df_scaled, ax=axs[0, 1])\n",
    "sns.boxplot(x=\"classification\", y='mra_D1_mean', data=df_scaled, ax=axs[0, 2])\n",
    "sns.boxplot(x=\"classification\", y='mra_D1_sd', data=df_scaled, ax=axs[0, 3])\n",
    "sns.boxplot(x=\"classification\", y='mra_D1_range', data=df_scaled, ax=axs[0, 4])\n",
    "sns.boxplot(x=\"classification\", y='mra_D1_zero', data=df_scaled, ax=axs[0, 5])\n",
    "sns.boxplot(x=\"classification\", y='mra_D2_min', data=df_scaled, ax=axs[1, 0])\n",
    "sns.boxplot(x=\"classification\", y='mra_D2_max', data=df_scaled, ax=axs[1, 1])\n",
    "sns.boxplot(x=\"classification\", y='mra_D2_mean', data=df_scaled, ax=axs[1, 2])\n",
    "sns.boxplot(x=\"classification\", y='mra_D2_sd', data=df_scaled, ax=axs[1, 3])\n",
    "sns.boxplot(x=\"classification\", y='mra_D2_range', data=df_scaled, ax=axs[1, 4])\n",
    "sns.boxplot(x=\"classification\", y='mra_D2_zero', data=df_scaled, ax=axs[1, 5])\n",
    "sns.boxplot(x=\"classification\", y='mra_D3_min', data=df_scaled, ax=axs[2, 0])\n",
    "sns.boxplot(x=\"classification\", y='mra_D3_max', data=df_scaled, ax=axs[2, 1])\n",
    "sns.boxplot(x=\"classification\", y='mra_D3_mean', data=df_scaled, ax=axs[2, 2])\n",
    "sns.boxplot(x=\"classification\", y='mra_D3_sd', data=df_scaled, ax=axs[2, 3])\n",
    "sns.boxplot(x=\"classification\", y='mra_D3_range', data=df_scaled, ax=axs[2, 4])\n",
    "sns.boxplot(x=\"classification\", y='mra_D3_zero', data=df_scaled, ax=axs[2, 5])\n",
    "plt.tight_layout()\n",
    "fig.savefig('../images/mra_features_boxplots.png')"
   ]
  },
  {
   "cell_type": "markdown",
   "id": "f15fd60d-b61b-4ecc-9785-64cdab5c1e93",
   "metadata": {},
   "source": [
    "## transformed wavelets"
   ]
  },
  {
   "cell_type": "code",
   "execution_count": null,
   "id": "fba5b665-8f4b-4300-9716-71a0315ea556",
   "metadata": {},
   "outputs": [],
   "source": [
    "cols = ['mra_D1_min', 'mra_D1_max', 'mra_D1_mean', 'mra_D1_sd', 'mra_D1_range', 'mra_D1_zero', 'mra_D2_min', 'mra_D2_max',\n",
    "       'mra_D2_mean', 'mra_D2_sd', 'mra_D2_range', 'mra_D2_zero', 'mra_D3_min', 'mra_D3_max', 'mra_D3_mean', 'mra_D3_sd',\n",
    "        'mra_D3_range', 'mra_D3_zero']\n",
    "\n",
    "for col in cols:\n",
    "    for transformation in transformations.keys():\n",
    "        df[f'{col}_{transformation}'] = transformations[transformation](df[col])"
   ]
  },
  {
   "cell_type": "code",
   "execution_count": null,
   "id": "c6a9d3f7-c945-4523-b97a-4c13beece9ef",
   "metadata": {
    "tags": []
   },
   "outputs": [],
   "source": [
    "g = sns.pairplot(vars=['mra_D1_min_x2', 'mra_D1_max_x2', 'mra_D1_mean_x2', 'mra_D1_sd_x2', 'mra_D1_range_x2', 'mra_D1_zero_x2'], data=df, hue='classification')"
   ]
  },
  {
   "cell_type": "code",
   "execution_count": null,
   "id": "85d29e82-c4ee-43aa-8091-4180b35e253e",
   "metadata": {
    "tags": []
   },
   "outputs": [],
   "source": [
    "g = sns.pairplot(vars=['mra_D1_min_sqrt', 'mra_D1_max_sqrt', 'mra_D1_mean_sqrt', 'mra_D1_sd_sqrt', 'mra_D1_range_sqrt', 'mra_D1_zero_sqrt'], data=df, hue='classification')"
   ]
  },
  {
   "cell_type": "code",
   "execution_count": null,
   "id": "a432d925-8af9-452f-bfd8-debe963fcc2d",
   "metadata": {},
   "outputs": [],
   "source": [
    "g = sns.pairplot(vars=['mra_D1_min_1x', 'mra_D1_max_1x', 'mra_D1_mean_1x', 'mra_D1_sd_1x', 'mra_D1_range_1x', 'mra_D1_zero_1x'], data=df, hue='classification')"
   ]
  },
  {
   "cell_type": "code",
   "execution_count": null,
   "id": "b04196f2-6cef-4901-a000-e1da8eee9b42",
   "metadata": {
    "tags": []
   },
   "outputs": [],
   "source": [
    "g = sns.pairplot(vars=['mra_D1_min_log', 'mra_D1_max_log', 'mra_D1_mean_log', 'mra_D1_sd_log', 'mra_D1_range_log', 'mra_D1_zero_log'], data=df, hue='classification')"
   ]
  },
  {
   "cell_type": "markdown",
   "id": "582aedd7-c88d-4341-ab47-8e54281d81aa",
   "metadata": {},
   "source": [
    "## terrain roughness"
   ]
  },
  {
   "cell_type": "code",
   "execution_count": null,
   "id": "d3cf52e8-fb75-4f0a-b547-47bca02b1552",
   "metadata": {
    "tags": []
   },
   "outputs": [],
   "source": [
    "g = sns.pairplot(vars=['tri_min', 'tri_max', 'tri_mean', 'tri_sd', 'tri_range'], data=df_scaled, hue=\"classification\")\n",
    "# g.fig.suptitle('Terrain Roughness Index Features', y=1.01)\n",
    "g.fig.savefig('../images/tri_features_pairplot.png')"
   ]
  },
  {
   "cell_type": "code",
   "execution_count": null,
   "id": "c40d1cc8-36db-48ea-bef5-2afb2efcba3a",
   "metadata": {},
   "outputs": [],
   "source": [
    "fig, axs = plt.subplots(1, 5, figsize=(15, 2))\n",
    "sns.boxplot(x=\"classification\", y='tri_min', data=df_scaled, ax=axs[0])\n",
    "sns.boxplot(x=\"classification\", y='tri_max', data=df_scaled, ax=axs[1])\n",
    "sns.boxplot(x=\"classification\", y='tri_mean', data=df_scaled, ax=axs[2])\n",
    "sns.boxplot(x=\"classification\", y='tri_sd', data=df_scaled, ax=axs[3])\n",
    "sns.boxplot(x=\"classification\", y='tri_range', data=df_scaled, ax=axs[4])\n",
    "plt.tight_layout()\n",
    "fig.savefig('../images/tri_features_boxplots.png')"
   ]
  },
  {
   "cell_type": "markdown",
   "id": "72d1bd53-563b-4e5c-93f7-1ce484578975",
   "metadata": {},
   "source": [
    "## transformed terrain roughness"
   ]
  },
  {
   "cell_type": "code",
   "execution_count": null,
   "id": "594f606e-8e35-434b-9036-77fa7b62d700",
   "metadata": {},
   "outputs": [],
   "source": [
    "cols = ['tri_min', 'tri_max', 'tri_mean', 'tri_sd', 'tri_range']\n",
    "\n",
    "for col in cols:\n",
    "    for transformation in transformations.keys():\n",
    "        df[f'{col}_{transformation}'] = transformations[transformation](df[col])"
   ]
  },
  {
   "cell_type": "code",
   "execution_count": null,
   "id": "54128304-9ad7-42ab-b388-cdeeb36051b4",
   "metadata": {
    "tags": []
   },
   "outputs": [],
   "source": [
    "g = sns.pairplot(vars=['tri_min_1x', 'tri_max_1x', 'tri_mean_1x', 'tri_sd_1x', 'tri_range_1x'], data=df, hue=\"classification\")\n",
    "# g.fig.suptitle('Terrain Roughness Index Features', y=1.01)\n",
    "g.fig.savefig('../images/tri_features_pairplot.png')"
   ]
  },
  {
   "cell_type": "code",
   "execution_count": null,
   "id": "82162f47-7831-4153-a415-948c78482227",
   "metadata": {
    "tags": []
   },
   "outputs": [],
   "source": [
    "g = sns.pairplot(vars=['tri_min_sqrt', 'tri_max_sqrt', 'tri_mean_sqrt', 'tri_sd_sqrt', 'tri_range_sqrt'], data=df, hue=\"classification\")\n",
    "# g.fig.suptitle('Terrain Roughness Index Features', y=1.01)\n",
    "g.fig.savefig('../images/tri_features_pairplot.png')"
   ]
  },
  {
   "cell_type": "code",
   "execution_count": null,
   "id": "888a6864-bdad-45b3-9f0f-cf9c5f827e8c",
   "metadata": {
    "tags": []
   },
   "outputs": [],
   "source": [
    "g = sns.pairplot(vars=['tri_min_x2', 'tri_max_x2', 'tri_mean_x2', 'tri_sd_x2', 'tri_range_x2'], data=df, hue=\"classification\")\n",
    "# g.fig.suptitle('Terrain Roughness Index Features', y=1.01)\n",
    "g.fig.savefig('../images/tri_features_pairplot.png')"
   ]
  },
  {
   "cell_type": "code",
   "execution_count": null,
   "id": "68caf4ed-df5b-4187-8d9f-5b2985427b59",
   "metadata": {
    "tags": []
   },
   "outputs": [],
   "source": [
    "g = sns.pairplot(vars=['tri_min_log', 'tri_max_log', 'tri_mean_log', 'tri_sd_log', 'tri_range_log'], data=df, hue=\"classification\")\n",
    "# g.fig.suptitle('Terrain Roughness Index Features', y=1.01)\n",
    "g.fig.savefig('../images/tri_features_pairplot.png')"
   ]
  },
  {
   "cell_type": "markdown",
   "id": "7ec3398c-5958-4915-9b3b-cd3458133280",
   "metadata": {},
   "source": [
    "## Variogram features"
   ]
  },
  {
   "cell_type": "code",
   "execution_count": null,
   "id": "6efbb74c-24ca-4a65-bd4b-5877ec9398dd",
   "metadata": {},
   "outputs": [],
   "source": [
    "_df = df_scaled.loc[(df.var_range < 2000) & (df.var_sill < 2000)][[\"var_sill\", \"var_range\", \"var_kappa\", \"classification\"]]\n",
    "g = sns.pairplot(vars=[\"var_sill\", \"var_range\", \"var_kappa\"], data=_df, hue='classification')\n",
    "# g.fig.suptitle('Variogram Features', y=1.01)\n",
    "g.fig.tight_layout()\n",
    "g.fig.savefig('../images/var_features_pairplot.png')"
   ]
  },
  {
   "cell_type": "code",
   "execution_count": null,
   "id": "cb6c6a8a-431d-4928-835f-199cb18b18fc",
   "metadata": {},
   "outputs": [],
   "source": [
    "fig, axs = plt.subplots(1, 3, figsize=(10, 2))\n",
    "sns.boxplot(x=\"classification\", y=\"var_sill\", data=df_scaled.loc[df_scaled.var_sill < 30], ax=axs[0])\n",
    "sns.boxplot(x=\"classification\", y=\"var_range\", data=df_scaled, ax=axs[1])\n",
    "sns.boxplot(x=\"classification\", y=\"var_kappa\", data=df_scaled, ax=axs[2])\n",
    "plt.tight_layout()\n",
    "fig.savefig('../images/var_features_boxplots.png')"
   ]
  },
  {
   "cell_type": "markdown",
   "id": "a98d731a-614a-4529-9e2a-957985ebc857",
   "metadata": {},
   "source": [
    "## sparsity features"
   ]
  },
  {
   "cell_type": "code",
   "execution_count": null,
   "id": "e9b1a8ad-e200-492e-aabf-50ba9bfa7e4a",
   "metadata": {},
   "outputs": [],
   "source": [
    "g = sns.pairplot(vars=[\"g\", \"zeros\"], data=df_scaled, hue='classification')\n",
    "g.fig.tight_layout()\n",
    "g.fig.savefig('../images/sparsity_features_pairplot.png')"
   ]
  },
  {
   "cell_type": "code",
   "execution_count": null,
   "id": "eb39cab6-82aa-4090-9d65-9e0ac8475601",
   "metadata": {},
   "outputs": [],
   "source": [
    "fig, axs = plt.subplots(1, 2, figsize=(10, 5))\n",
    "sns.boxplot(x=\"classification\", y=\"g\", data=df_scaled, ax=axs[0])\n",
    "sns.boxplot(x=\"classification\", y=\"zeros\", data=df_scaled, ax=axs[1])\n",
    "fig.savefig('../images/sparsity_features_boxplots.png')"
   ]
  },
  {
   "cell_type": "code",
   "execution_count": null,
   "id": "7ea452b5-ad03-4247-84dc-aa18a9171a79",
   "metadata": {},
   "outputs": [],
   "source": []
  }
 ],
 "metadata": {
  "kernelspec": {
   "display_name": "Python 3",
   "language": "python",
   "name": "python3"
  },
  "language_info": {
   "codemirror_mode": {
    "name": "ipython",
    "version": 3
   },
   "file_extension": ".py",
   "mimetype": "text/x-python",
   "name": "python",
   "nbconvert_exporter": "python",
   "pygments_lexer": "ipython3",
   "version": "3.7.7"
  }
 },
 "nbformat": 4,
 "nbformat_minor": 5
}
