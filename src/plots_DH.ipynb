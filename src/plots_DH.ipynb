{
 "cells": [
  {
   "cell_type": "code",
   "execution_count": null,
   "id": "25910767-8abc-49ee-bf05-1538c43721a7",
   "metadata": {},
   "outputs": [],
   "source": [
    "import pandas as pd\n",
    "import matplotlib.pyplot as plt\n",
    "import seaborn as sns\n",
    "\n",
    "from sklearn.preprocessing import StandardScaler"
   ]
  },
  {
   "cell_type": "code",
   "execution_count": null,
   "id": "e5f226f3-602b-4444-a03f-f80bac09b7d9",
   "metadata": {},
   "outputs": [],
   "source": [
    "df = pd.read_csv('../data/X.csv')"
   ]
  },
  {
   "cell_type": "code",
   "execution_count": null,
   "id": "5ebb61df-2564-4bd0-a227-77a7b56845dc",
   "metadata": {},
   "outputs": [],
   "source": [
    "numeric_columns = ['min', 'max', 'mean', 'sd', 'range',\n",
    "       'sum','duplicates', 'mra_D1_min', 'mra_D1_max', 'mra_D1_mean', 'mra_D1_sd',\n",
    "       'mra_D1_range', 'mra_D1_zero', 'mra_D2_min', 'mra_D2_max',\n",
    "       'mra_D2_mean', 'mra_D2_sd', 'mra_D2_range', 'mra_D2_zero', 'mra_D3_min',\n",
    "       'mra_D3_max', 'mra_D3_mean', 'mra_D3_sd', 'mra_D3_range', 'mra_D3_zero',\n",
    "       'tri_min', 'tri_max', 'tri_mean', 'tri_sd', 'tri_range', 'var_sill',\n",
    "       'var_range', 'var_kappa', 'g', 'zeros']"
   ]
  },
  {
   "cell_type": "code",
   "execution_count": null,
   "id": "f08dae8f-bb79-4cac-a23f-8db0e6155e2b",
   "metadata": {},
   "outputs": [],
   "source": [
    "df_scaled = pd.concat([df[['image_id', 'classification']], pd.DataFrame(StandardScaler().fit_transform(df[numeric_columns]), columns=numeric_columns)])"
   ]
  },
  {
   "cell_type": "code",
   "execution_count": null,
   "id": "fc1de2b7-5520-4ab1-9c63-f4a1c27c0771",
   "metadata": {},
   "outputs": [],
   "source": [
    "df_scaled = pd.concat([\n",
    "    df[['image_id', 'classification']],\n",
    "    pd.DataFrame(StandardScaler().fit_transform(df[numeric_columns]), columns=numeric_columns)\n",
    "], axis=1)"
   ]
  },
  {
   "cell_type": "code",
   "execution_count": null,
   "id": "86e45bf7-5a4c-41e1-ab11-c8a9cb532794",
   "metadata": {},
   "outputs": [],
   "source": [
    "df_scaled"
   ]
  },
  {
   "cell_type": "code",
   "execution_count": null,
   "id": "dc793b81-b47a-4e15-aea1-993edfb9329b",
   "metadata": {},
   "outputs": [],
   "source": [
    "g = sns.pairplot(vars=['min', 'max', 'mean'], data=df_scaled, hue='classification')\n",
    "# g.fig.suptitle('Descriptive Features', y=1.01)\n",
    "g.fig.savefig('../images/descriptive_features_1_pairplot.png')"
   ]
  },
  {
   "cell_type": "code",
   "execution_count": null,
   "id": "cbb7f318-94d5-4e04-912f-5945592f6631",
   "metadata": {},
   "outputs": [],
   "source": [
    "g = sns.pairplot(vars=['sd', 'range', 'sum'], data=df_scaled, hue='classification')\n",
    "# g.fig.suptitle('Descriptive Features', y=1.01)\n",
    "g.fig.savefig('../images/descriptive_features_2_pairplot.png')"
   ]
  },
  {
   "cell_type": "code",
   "execution_count": null,
   "id": "08724829-ea12-474c-869f-541f6b51f537",
   "metadata": {},
   "outputs": [],
   "source": [
    "g = sns.pairplot(vars=['mra_D1_min', 'mra_D1_max', 'mra_D1_mean', 'mra_D1_sd', 'mra_D1_range', 'mra_D1_zero'], data=df_scaled, hue='classification')\n",
    "# g.fig.suptitle('Wavelet Features (D1)', y=1.01)\n",
    "g.fig.savefig('../images/mra_features_d1_pairplot.png')"
   ]
  },
  {
   "cell_type": "code",
   "execution_count": null,
   "id": "04316d37-7290-49c4-b6d4-13e85d22ab7d",
   "metadata": {},
   "outputs": [],
   "source": [
    "g = sns.pairplot(vars=['mra_D2_min', 'mra_D2_max', 'mra_D2_mean', 'mra_D2_sd', 'mra_D2_range', 'mra_D2_zero'], data=df_scaled, hue='classification')\n",
    "# g.fig.suptitle('Wavelet Features (D2)', y=1.01)\n",
    "g.fig.savefig('../images/mra_features_d2_pairplot.png')"
   ]
  },
  {
   "cell_type": "code",
   "execution_count": null,
   "id": "962f26ff-4e82-4df3-a45f-79c67e70f857",
   "metadata": {},
   "outputs": [],
   "source": [
    "g = sns.pairplot(vars=['mra_D3_min', 'mra_D3_max', 'mra_D3_mean', 'mra_D3_sd', 'mra_D3_range', 'mra_D3_zero'], data=df_scaled, hue='classification')\n",
    "# g.fig.suptitle('Wavelet Features (D3)', y=1.01)\n",
    "g.fig.savefig('../images/mra_features_d3_pairplot.png')"
   ]
  },
  {
   "cell_type": "code",
   "execution_count": null,
   "id": "d3cf52e8-fb75-4f0a-b547-47bca02b1552",
   "metadata": {},
   "outputs": [],
   "source": [
    "g = sns.pairplot(vars=['tri_min', 'tri_max', 'tri_mean', 'tri_sd', 'tri_range'], data=df_scaled, hue=\"classification\")\n",
    "# g.fig.suptitle('Terrain Roughness Index Features', y=1.01)\n",
    "g.fig.savefig('../images/tri_features_pairplot.png')"
   ]
  },
  {
   "cell_type": "code",
   "execution_count": null,
   "id": "6efbb74c-24ca-4a65-bd4b-5877ec9398dd",
   "metadata": {},
   "outputs": [],
   "source": [
    "_df = df_scaled.loc[(df.var_range < 2000) & (df.var_sill < 2000)][[\"var_sill\", \"var_range\", \"var_kappa\", \"classification\"]]\n",
    "g = sns.pairplot(vars=[\"var_sill\", \"var_range\", \"var_kappa\"], data=_df, hue='classification')\n",
    "# g.fig.suptitle('Variogram Features', y=1.01)\n",
    "g.fig.tight_layout()\n",
    "g.fig.savefig('../images/var_features_pairplot.png')"
   ]
  },
  {
   "cell_type": "code",
   "execution_count": null,
   "id": "e9b1a8ad-e200-492e-aabf-50ba9bfa7e4a",
   "metadata": {},
   "outputs": [],
   "source": [
    "g = sns.pairplot(vars=[\"g\", \"zeros\"], data=df_scaled, hue='classification')\n",
    "g.fig.tight_layout()\n",
    "g.fig.savefig('../images/sparsity_features_pairplot.png')"
   ]
  },
  {
   "cell_type": "code",
   "execution_count": null,
   "id": "7f233dbd-52ef-4cd1-9a2a-f9f8532d400d",
   "metadata": {},
   "outputs": [],
   "source": [
    "fig, axs = plt.subplots(2, 4, figsize=(15, 5))\n",
    "sns.boxplot(x=\"classification\", y='min', data=df_scaled, ax=axs[0, 0])\n",
    "sns.boxplot(x=\"classification\", y='max', data=df_scaled, ax=axs[0, 1])\n",
    "sns.boxplot(x=\"classification\", y='mean', data=df_scaled, ax=axs[0, 2])\n",
    "sns.boxplot(x=\"classification\", y='sd', data=df_scaled, ax=axs[1, 0])\n",
    "sns.boxplot(x=\"classification\", y='range', data=df_scaled, ax=axs[1, 1])\n",
    "sns.boxplot(x=\"classification\", y='sum', data=df_scaled, ax=axs[1, 3])\n",
    "sns.boxplot(x=\"classification\", y='duplicates', data=df_scaled, ax=axs[1, 2])\n",
    "plt.tight_layout()\n",
    "fig.savefig('../images/descriptive_features_boxplots.png')"
   ]
  },
  {
   "cell_type": "code",
   "execution_count": null,
   "id": "18b191bc-c884-4dbb-8060-da48dfabfb7b",
   "metadata": {},
   "outputs": [],
   "source": [
    "fig, axs = plt.subplots(3, 6, figsize=(20, 8))\n",
    "sns.boxplot(x=\"classification\", y='mra_D1_min', data=df_scaled, ax=axs[0, 0])\n",
    "sns.boxplot(x=\"classification\", y='mra_D1_max', data=df_scaled, ax=axs[0, 1])\n",
    "sns.boxplot(x=\"classification\", y='mra_D1_mean', data=df_scaled, ax=axs[0, 2])\n",
    "sns.boxplot(x=\"classification\", y='mra_D1_sd', data=df_scaled, ax=axs[0, 3])\n",
    "sns.boxplot(x=\"classification\", y='mra_D1_range', data=df_scaled, ax=axs[0, 4])\n",
    "sns.boxplot(x=\"classification\", y='mra_D1_zero', data=df_scaled, ax=axs[0, 5])\n",
    "sns.boxplot(x=\"classification\", y='mra_D2_min', data=df_scaled, ax=axs[1, 0])\n",
    "sns.boxplot(x=\"classification\", y='mra_D2_max', data=df_scaled, ax=axs[1, 1])\n",
    "sns.boxplot(x=\"classification\", y='mra_D2_mean', data=df_scaled, ax=axs[1, 2])\n",
    "sns.boxplot(x=\"classification\", y='mra_D2_sd', data=df_scaled, ax=axs[1, 3])\n",
    "sns.boxplot(x=\"classification\", y='mra_D2_range', data=df_scaled, ax=axs[1, 4])\n",
    "sns.boxplot(x=\"classification\", y='mra_D2_zero', data=df_scaled, ax=axs[1, 5])\n",
    "sns.boxplot(x=\"classification\", y='mra_D3_min', data=df_scaled, ax=axs[2, 0])\n",
    "sns.boxplot(x=\"classification\", y='mra_D3_max', data=df_scaled, ax=axs[2, 1])\n",
    "sns.boxplot(x=\"classification\", y='mra_D3_mean', data=df_scaled, ax=axs[2, 2])\n",
    "sns.boxplot(x=\"classification\", y='mra_D3_sd', data=df_scaled, ax=axs[2, 3])\n",
    "sns.boxplot(x=\"classification\", y='mra_D3_range', data=df_scaled, ax=axs[2, 4])\n",
    "sns.boxplot(x=\"classification\", y='mra_D3_zero', data=df_scaled, ax=axs[2, 5])\n",
    "plt.tight_layout()\n",
    "fig.savefig('../images/mra_features_boxplots.png')"
   ]
  },
  {
   "cell_type": "code",
   "execution_count": null,
   "id": "c40d1cc8-36db-48ea-bef5-2afb2efcba3a",
   "metadata": {},
   "outputs": [],
   "source": [
    "fig, axs = plt.subplots(1, 5, figsize=(15, 2))\n",
    "sns.boxplot(x=\"classification\", y='tri_min', data=df_scaled, ax=axs[0])\n",
    "sns.boxplot(x=\"classification\", y='tri_max', data=df_scaled, ax=axs[1])\n",
    "sns.boxplot(x=\"classification\", y='tri_mean', data=df_scaled, ax=axs[2])\n",
    "sns.boxplot(x=\"classification\", y='tri_sd', data=df_scaled, ax=axs[3])\n",
    "sns.boxplot(x=\"classification\", y='tri_range', data=df_scaled, ax=axs[4])\n",
    "plt.tight_layout()\n",
    "fig.savefig('../images/tri_features_boxplots.png')"
   ]
  },
  {
   "cell_type": "code",
   "execution_count": null,
   "id": "cb6c6a8a-431d-4928-835f-199cb18b18fc",
   "metadata": {},
   "outputs": [],
   "source": [
    "fig, axs = plt.subplots(1, 3, figsize=(10, 2))\n",
    "sns.boxplot(x=\"classification\", y=\"var_sill\", data=df_scaled.loc[df_scaled.var_sill < 30], ax=axs[0])\n",
    "sns.boxplot(x=\"classification\", y=\"var_range\", data=df_scaled, ax=axs[1])\n",
    "sns.boxplot(x=\"classification\", y=\"var_kappa\", data=df_scaled, ax=axs[2])\n",
    "plt.tight_layout()\n",
    "fig.savefig('../images/var_features_boxplots.png')"
   ]
  },
  {
   "cell_type": "code",
   "execution_count": null,
   "id": "eb39cab6-82aa-4090-9d65-9e0ac8475601",
   "metadata": {},
   "outputs": [],
   "source": [
    "fig, axs = plt.subplots(1, 2, figsize=(10, 5))\n",
    "sns.boxplot(x=\"classification\", y=\"g\", data=df_scaled, ax=axs[0])\n",
    "sns.boxplot(x=\"classification\", y=\"zeros\", data=df_scaled, ax=axs[1])\n",
    "fig.savefig('../images/sparsity_features_boxplots.png')"
   ]
  },
  {
   "cell_type": "code",
   "execution_count": null,
   "id": "7ea452b5-ad03-4247-84dc-aa18a9171a79",
   "metadata": {},
   "outputs": [],
   "source": []
  }
 ],
 "metadata": {
  "kernelspec": {
   "display_name": "Python 3",
   "language": "python",
   "name": "python3"
  },
  "language_info": {
   "codemirror_mode": {
    "name": "ipython",
    "version": 3
   },
   "file_extension": ".py",
   "mimetype": "text/x-python",
   "name": "python",
   "nbconvert_exporter": "python",
   "pygments_lexer": "ipython3",
   "version": "3.7.7"
  }
 },
 "nbformat": 4,
 "nbformat_minor": 5
}
