{
 "cells": [
  {
   "cell_type": "code",
   "execution_count": 20,
   "id": "cf921eca",
   "metadata": {},
   "outputs": [],
   "source": [
    "import pandas as pd\n",
    "from os.path import join\n",
    "import numpy as np\n",
    "from sklearn.linear_model import LogisticRegression\n",
    "from sklearn.model_selection import train_test_split\n",
    "from sklearn.preprocessing import StandardScaler\n",
    "from sklearn.metrics import classification_report\n",
    "from sklearn.ensemble import RandomForestClassifier\n",
    "from sklearn.metrics import confusion_matrix\n",
    "from sklearn.neighbors import KNeighborsClassifier\n",
    "from sklearn.metrics import roc_curve, auc\n",
    "from sklearn import svm\n",
    "from sklearn.model_selection import PredefinedSplit, GridSearchCV\n",
    "import warnings"
   ]
  },
  {
   "cell_type": "code",
   "execution_count": 27,
   "id": "1cb1d749",
   "metadata": {},
   "outputs": [
    {
     "data": {
      "text/plain": [
       "Index(['image_id', 'classification', 'min', 'max', 'mean', 'sd', 'range',\n",
       "       'sum', 'duplicates', 'mra_D1_min', 'mra_D1_max', 'mra_D1_mean',\n",
       "       'mra_D1_sd', 'mra_D1_range', 'mra_D1_zero', 'mra_D2_min', 'mra_D2_max',\n",
       "       'mra_D2_mean', 'mra_D2_sd', 'mra_D2_range', 'mra_D2_zero', 'mra_D3_min',\n",
       "       'mra_D3_max', 'mra_D3_mean', 'mra_D3_sd', 'mra_D3_range', 'mra_D3_zero',\n",
       "       'tri_min', 'tri_max', 'tri_mean', 'tri_sd', 'tri_range', 'var_sill',\n",
       "       'var_range', 'var_kappa'],\n",
       "      dtype='object')"
      ]
     },
     "execution_count": 27,
     "metadata": {},
     "output_type": "execute_result"
    }
   ],
   "source": [
    "#Reads in training dataset (80% of given observations)\n",
    "data_path = join(\"..\", \"data\")\n",
    "df = pd.read_csv(join(data_path, \"train_X.csv\"))\n",
    "numeric_columns = ['min', 'max', 'mean', 'sd', 'range',\n",
    "       'sum','duplicates', 'mra_D1_min', 'mra_D1_max', 'mra_D1_mean', 'mra_D1_sd',\n",
    "       'mra_D1_range', 'mra_D1_zero', 'mra_D2_min', 'mra_D2_max',\n",
    "       'mra_D2_mean', 'mra_D2_sd', 'mra_D2_range', 'mra_D2_zero', 'mra_D3_min',\n",
    "       'mra_D3_max', 'mra_D3_mean', 'mra_D3_sd', 'mra_D3_range', 'mra_D3_zero',\n",
    "       'tri_min', 'tri_max', 'tri_mean', 'tri_sd', 'tri_range', 'var_sill',\n",
    "       'var_range', 'var_kappa']\n",
    "# df = pd.concat([df[['image_id', 'classification']], pd.DataFrame(StandardScaler().fit_transform(df[numeric_columns]), columns=numeric_columns)])\n",
    "df = pd.concat([\n",
    "    df[['image_id', 'classification']],\n",
    "    pd.DataFrame(StandardScaler().fit_transform(df[numeric_columns]), columns=numeric_columns)\n",
    "], axis=1)\n",
    "\n",
    "#Reads in validation dataset (15% of given observations)\n",
    "df_val = pd.read_csv(join(data_path, 'validate_X.csv'))\n",
    "df_val = pd.concat([\n",
    "    df_val[['image_id', 'classification']],\n",
    "    pd.DataFrame(StandardScaler().fit_transform(df_val[numeric_columns]), columns=numeric_columns)\n",
    "], axis=1)\n",
    "\n",
    "#Reads in test dataset (5% of given observations)\n",
    "df_test = pd.read_csv(join(data_path, 'test_X.csv'))\n",
    "df_test = pd.concat([\n",
    "    df_test[['image_id', 'classification']],\n",
    "    pd.DataFrame(StandardScaler().fit_transform(df_test[numeric_columns]), columns=numeric_columns)\n",
    "], axis=1)\n",
    "df_test.columns"
   ]
  },
  {
   "cell_type": "code",
   "execution_count": 22,
   "id": "7a56cb08",
   "metadata": {},
   "outputs": [
    {
     "name": "stdout",
     "output_type": "stream",
     "text": [
      "Train Accuracy: 1.0\n",
      "Test Accuracy: 0.57\n",
      "[[68  3  0]\n",
      " [20  0  0]\n",
      " [32  3  9]]\n",
      "\n",
      "Feature importances:\n",
      "0.24 var_range\n",
      "0.11 sum\n",
      "0.07 var_kappa\n",
      "0.05 mra_D3_min\n",
      "0.05 tri_mean\n",
      "0.04 mra_D1_max\n",
      "0.03 mra_D1_range\n",
      "0.03 tri_max\n",
      "0.03 mra_D2_min\n",
      "0.03 mra_D3_range\n",
      "0.03 tri_sd\n",
      "0.03 tri_range\n",
      "0.03 tri_min\n",
      "0.03 mra_D2_range\n",
      "0.03 mra_D1_sd\n",
      "0.02 mra_D2_sd\n",
      "0.02 mra_D1_min\n",
      "0.02 mra_D3_max\n",
      "0.02 mra_D2_max\n",
      "0.02 mra_D3_sd\n",
      "0.02 mra_D2_zero\n",
      "0.01 mra_D3_zero\n",
      "0.01 mra_D1_zero\n",
      "0.01 var_sill\n",
      "0.01 mra_D1_mean\n",
      "0.01 mra_D2_mean\n",
      "0.0 mra_D3_mean\n",
      "0.0 duplicates\n"
     ]
    }
   ],
   "source": [
    "X_train = df.drop(['image_id','classification','min','max','range','sd','mean'],axis=1)\n",
    "y_train = df['classification']\n",
    "X_val = df_val.drop(['image_id','classification','min','max','range','sd','mean'],axis=1)\n",
    "y_val = df_val['classification']\n",
    "X_test = df_test.drop(['image_id','classification','min','max','range','sd','mean'],axis=1)\n",
    "y_test = df_test['classification']\n",
    "\n",
    "\n",
    "#clf = LogisticRegression(random_state=0,max_iter=1000).fit(X_train, y_train)\n",
    "clf = RandomForestClassifier().fit(X_train, y_train)\n",
    "# clf = KNeighborsClassifier(n_neighbors=3).fit(X_train, y_train)\n",
    "#clf = svm.SVC(C = 1).fit(X_train, y_train)\n",
    "\n",
    "print(f\"Train Accuracy: {round(clf.score(X_train, y_train), 3)}\")\n",
    "print(f\"Test Accuracy: {round(clf.score(X_val, y_val), 3)}\")\n",
    "\n",
    "print(confusion_matrix(y_val, clf.predict(X_val)))\n",
    "\n",
    "print(\"\\nFeature importances:\")\n",
    "zipped_lists = zip(clf.feature_importances_, X_train.columns)\n",
    "sorted_pairs = sorted(zipped_lists, reverse=True)\n",
    "for pair in sorted_pairs:\n",
    "    print(f\"{round(pair[0], 2)} {pair[1]}\")"
   ]
  },
  {
   "cell_type": "code",
   "execution_count": 23,
   "id": "34e74f0f",
   "metadata": {},
   "outputs": [
    {
     "name": "stdout",
     "output_type": "stream",
     "text": [
      "Best Random Forest Score: 0.49014264696475396\n",
      "Best Random Forest Params: {'max_depth': 10, 'n_estimators': 1000, 'random_state': 0}\n",
      "Best Logistic Regression Score: 0.6520346257188361\n",
      "Best Logistic Regression Params: {'C': 10000.0, 'max_iter': 1000, 'random_state': 0}\n",
      "Best KNN Classifier Score: 0.49442106903537486\n",
      "Best KNN Classifier Params: {'n_neighbors': 12}\n",
      "Best SVM Score: 0.5846095405069763\n",
      "Best SVM Params: {'C': 100.0, 'random_state': 0}\n"
     ]
    }
   ],
   "source": [
    "#Creates an index list to be used so that gridsearchcv differentiates between existing training and validation sets\n",
    "split_index = [-1]*len(X_train) + [0]*len(X_val)\n",
    "ps = PredefinedSplit(test_fold = split_index)\n",
    "X = np.concatenate((X_train, X_val), axis=0)\n",
    "y = np.concatenate((y_train, y_val), axis=0)\n",
    "\n",
    "\n",
    "\n",
    "############################ Random Forest Hyperparameter Search ############################################\n",
    "rf = RandomForestClassifier()\n",
    "rf_params = {\n",
    " 'max_depth': [10, 50, 100],\n",
    " 'random_state':[0],\n",
    " 'n_estimators': [200, 1000, 2000]\n",
    "}\n",
    "\n",
    "clf_rf = GridSearchCV(estimator = rf, cv=ps,scoring = \"f1_weighted\", param_grid=rf_params)\n",
    "clf_rf.fit(X, y)\n",
    "print(\"Best Random Forest Score:\", clf_rf.best_score_)\n",
    "print(\"Best Random Forest Params:\", clf_rf.best_params_)\n",
    "\n",
    "############################ Logistic Regression Hyperparamter Search #######################################\n",
    "warnings.filterwarnings(\"ignore\")\n",
    "lr = LogisticRegression()\n",
    "lr_params = {\n",
    "    \"C\": [1e-5, 1e-4, 1e-3, 1e-2, 1e-1, 1, 1e2, 1e3, 1e4],\n",
    "    \"random_state\": [0],\n",
    "    \"max_iter\": [1000]\n",
    "}\n",
    "clf_lr = GridSearchCV(estimator = lr, cv=ps,scoring = \"f1_weighted\", param_grid=lr_params)\n",
    "clf_lr.fit(X, y)\n",
    "print(\"Best Logistic Regression Score:\", clf_lr.best_score_)\n",
    "print(\"Best Logistic Regression Params:\", clf_lr.best_params_)\n",
    "\n",
    "############################ K Nearest Neighbors Hyperparamter Search #######################################\n",
    "knn = KNeighborsClassifier()\n",
    "knn_params = {\n",
    "    \"n_neighbors\": [i for i in range(1,20,1)]\n",
    "}\n",
    "clf_knn = GridSearchCV(estimator = knn, cv=ps, scoring = \"f1_weighted\", param_grid=knn_params)\n",
    "clf_knn.fit(X, y)\n",
    "print(\"Best KNN Classifier Score:\", clf_knn.best_score_)\n",
    "print(\"Best KNN Classifier Params:\", clf_knn.best_params_)\n",
    "\n",
    "############################ Support Vector Machine Hyperparamter Search #######################################\n",
    "svm_mod = svm.SVC()\n",
    "svm_params = {\n",
    "    \"C\": [1e-5, 1e-4, 1e-3, 1e-2, 1e-1, 1, 1e2, 1e3, 1e4],\n",
    "    \"random_state\": [0]\n",
    "}\n",
    "clf_svm = GridSearchCV(estimator = svm_mod, cv=ps,scoring = \"f1_weighted\", param_grid=svm_params)\n",
    "clf_svm.fit(X, y)\n",
    "print(\"Best SVM Score:\", clf_svm.best_score_)\n",
    "print(\"Best SVM Params:\", clf_svm.best_params_)"
   ]
  },
  {
   "cell_type": "code",
   "execution_count": 24,
   "id": "795480a7",
   "metadata": {},
   "outputs": [
    {
     "name": "stdout",
     "output_type": "stream",
     "text": [
      "RF Test Accuracy: 0.745\n",
      "LR Test Accuracy: 0.279\n",
      "KNN Test Accuracy: 0.514\n",
      "SVM Test Accuracy: 0.66\n"
     ]
    }
   ],
   "source": [
    "#Uses test set to assess final test error of tuned model\n",
    "print(f\"RF Test Accuracy: {round(clf_rf.score(X_test, y_test), 3)}\")\n",
    "print(f\"LR Test Accuracy: {round(clf_lr.score(X_test, y_test), 3)}\")\n",
    "print(f\"KNN Test Accuracy: {round(clf_knn.score(X_test, y_test), 3)}\")\n",
    "print(f\"SVM Test Accuracy: {round(clf_svm.score(X_test, y_test), 3)}\")"
   ]
  },
  {
   "cell_type": "code",
   "execution_count": 25,
   "id": "d695f102",
   "metadata": {},
   "outputs": [
    {
     "name": "stdout",
     "output_type": "stream",
     "text": [
      "[[68  0  1]\n",
      " [13  4  3]\n",
      " [ 8  6 32]]\n",
      "[[ 8  0 61]\n",
      " [ 0  0 20]\n",
      " [ 0  3 43]]\n",
      "[[32 12 25]\n",
      " [ 2  7 11]\n",
      " [ 6 12 28]]\n",
      "[[63  0  6]\n",
      " [ 7  0 13]\n",
      " [ 9  5 32]]\n"
     ]
    }
   ],
   "source": [
    "print(confusion_matrix(y_test, clf_rf.predict(X_test)))\n",
    "print(confusion_matrix(y_test, clf_lr.predict(X_test)))\n",
    "print(confusion_matrix(y_test, clf_knn.predict(X_test)))\n",
    "print(confusion_matrix(y_test, clf_svm.predict(X_test)))\n"
   ]
  },
  {
   "cell_type": "code",
   "execution_count": 26,
   "id": "df2cf9b5",
   "metadata": {},
   "outputs": [
    {
     "data": {
      "image/png": "[encoded data removed]",
      "text/plain": [
       "<Figure size 576x432 with 2 Axes>"
      ]
     },
     "metadata": {
      "needs_background": "light"
     },
     "output_type": "display_data"
    }
   ],
   "source": [
    "import numpy as np\n",
    "\n",
    "\n",
    "def plot_confusion_matrix(cm,\n",
    "                          target_names,\n",
    "                          title='Confusion matrix',\n",
    "                          cmap=None,\n",
    "                          normalize=True):\n",
    "    \"\"\"\n",
    "    given a sklearn confusion matrix (cm), make a nice plot\n",
    "\n",
    "    Arguments\n",
    "    ---------\n",
    "    cm:           confusion matrix from sklearn.metrics.confusion_matrix\n",
    "\n",
    "    target_names: given classification classes such as [0, 1, 2]\n",
    "                  the class names, for example: ['high', 'medium', 'low']\n",
    "\n",
    "    title:        the text to display at the top of the matrix\n",
    "\n",
    "    cmap:         the gradient of the values displayed from matplotlib.pyplot.cm\n",
    "                  see http://matplotlib.org/examples/color/colormaps_reference.html\n",
    "                  plt.get_cmap('jet') or plt.cm.Blues\n",
    "\n",
    "    normalize:    If False, plot the raw numbers\n",
    "                  If True, plot the proportions\n",
    "\n",
    "    Usage\n",
    "    -----\n",
    "    plot_confusion_matrix(cm           = cm,                  # confusion matrix created by\n",
    "                                                              # sklearn.metrics.confusion_matrix\n",
    "                          normalize    = True,                # show proportions\n",
    "                          target_names = y_labels_vals,       # list of names of the classes\n",
    "                          title        = best_estimator_name) # title of graph\n",
    "\n",
    "    Citiation\n",
    "    ---------\n",
    "    http://scikit-learn.org/stable/auto_examples/model_selection/plot_confusion_matrix.html\n",
    "\n",
    "    \"\"\"\n",
    "    import matplotlib.pyplot as plt\n",
    "    import numpy as np\n",
    "    import itertools\n",
    "\n",
    "    accuracy = np.trace(cm) / np.sum(cm).astype('float')\n",
    "    misclass = 1 - accuracy\n",
    "\n",
    "    if cmap is None:\n",
    "        cmap = plt.get_cmap('Blues')\n",
    "\n",
    "    plt.figure(figsize=(8, 6))\n",
    "    plt.imshow(cm, interpolation='nearest', cmap=cmap)\n",
    "    plt.title(title)\n",
    "    plt.colorbar()\n",
    "\n",
    "    if target_names is not None:\n",
    "        tick_marks = np.arange(len(target_names))\n",
    "        plt.xticks(tick_marks, target_names, rotation=45)\n",
    "        plt.yticks(tick_marks, target_names)\n",
    "\n",
    "    if normalize:\n",
    "        cm = cm.astype('float') / cm.sum(axis=1)[:, np.newaxis]\n",
    "\n",
    "\n",
    "    thresh = cm.max() / 1.5 if normalize else cm.max() / 2\n",
    "    for i, j in itertools.product(range(cm.shape[0]), range(cm.shape[1])):\n",
    "        if normalize:\n",
    "            plt.text(j, i, \"{:0.4f}\".format(cm[i, j]),\n",
    "                     horizontalalignment=\"center\",\n",
    "                     color=\"white\" if cm[i, j] > thresh else \"black\")\n",
    "        else:\n",
    "            plt.text(j, i, \"{:,}\".format(cm[i, j]),\n",
    "                     horizontalalignment=\"center\",\n",
    "                     color=\"white\" if cm[i, j] > thresh else \"black\")\n",
    "\n",
    "\n",
    "    plt.tight_layout()\n",
    "    plt.ylabel('True label')\n",
    "    plt.xlabel('Predicted label\\naccuracy={:0.4f}; misclass={:0.4f}'.format(accuracy, misclass))\n",
    "    plt.show()\n",
    "    \n",
    "plot_confusion_matrix(confusion_matrix(y_test, clf_rf.predict(X_test)),['high','medium','low'],normalize=False)"
   ]
  },
  {
   "cell_type": "code",
   "execution_count": null,
   "id": "8239c89a",
   "metadata": {},
   "outputs": [],
   "source": []
  }
 ],
 "metadata": {
  "kernelspec": {
   "display_name": "Python 3",
   "language": "python",
   "name": "python3"
  },
  "language_info": {
   "codemirror_mode": {
    "name": "ipython",
    "version": 3
   },
   "file_extension": ".py",
   "mimetype": "text/x-python",
   "name": "python",
   "nbconvert_exporter": "python",
   "pygments_lexer": "ipython3",
   "version": "3.9.5"
  }
 },
 "nbformat": 4,
 "nbformat_minor": 5
}
