{
 "cells": [
  {
   "cell_type": "code",
   "execution_count": null,
   "id": "7b1447a8",
   "metadata": {},
   "outputs": [],
   "source": [
    "import pandas as pd\n",
    "\n",
    "from os.path import join"
   ]
  },
  {
   "cell_type": "code",
   "execution_count": null,
   "id": "b1ad5c1f",
   "metadata": {},
   "outputs": [],
   "source": [
    "classification = pd.read_csv(join('..', 'data', 'classification.csv')).rename(columns={'Unnamed: 0': 'image_id'}).set_index('image_id')\n",
    "descriptive_features = pd.read_csv(join('..', 'data', 'descriptive_features.csv')).rename(columns={'Unnamed: 0': 'image_id'}).set_index('image_id')\n",
    "mra_features = pd.read_csv(join('..', 'data', 'mra_features.csv')).rename(columns={'Unnamed: 0': 'image_id'}).set_index('image_id')\n",
    "tri_features = pd.read_csv(join('..', 'data', 'tri_features.csv')).rename(columns={'Unnamed: 0': 'image_id'}).set_index('image_id')\n",
    "variogram_features = pd.read_csv(join('..', 'data', 'variogram_features.csv')).rename(columns={'Unnamed: 0': 'image_id'}).set_index('image_id')\n",
    "gini_features = pd.read_csv(join('..', 'data', 'sparsity_features.csv')).rename(columns={'Unnamed: 0': 'image_id'}).set_index('image_id')\n",
    "num_peaks = pd.read_csv(join('..', 'data', 'num_peaks.csv')).rename(columns={'Unnamed: 0': 'image_id'}).set_index('image_id')\n",
    "gradient = pd.read_csv(join('..', 'data', 'gradient.csv')).rename(columns={'Unnamed: 0': 'image_id'}).set_index('image_id')\n",
    "\n",
    "features = [\n",
    "    classification,\n",
    "    descriptive_features,\n",
    "    mra_features,\n",
    "    tri_features,\n",
    "    variogram_features,\n",
    "    gini_features,\n",
    "    num_peaks,\n",
    "    gradient\n",
    "]\n",
    "\n",
    "df = pd.concat(features, axis=1)"
   ]
  },
  {
   "cell_type": "code",
   "execution_count": null,
   "id": "efdff3c6",
   "metadata": {},
   "outputs": [],
   "source": [
    "df.to_csv('../data/X.csv')"
   ]
  },
  {
   "cell_type": "code",
   "execution_count": null,
   "id": "227b8523-46b9-418a-9917-942c5d165265",
   "metadata": {},
   "outputs": [],
   "source": []
  }
 ],
 "metadata": {
  "kernelspec": {
   "display_name": "Python 3",
   "language": "python",
   "name": "python3"
  },
  "language_info": {
   "codemirror_mode": {
    "name": "ipython",
    "version": 3
   },
   "file_extension": ".py",
   "mimetype": "text/x-python",
   "name": "python",
   "nbconvert_exporter": "python",
   "pygments_lexer": "ipython3",
   "version": "3.7.7"
  }
 },
 "nbformat": 4,
 "nbformat_minor": 5
}
