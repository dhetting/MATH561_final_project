{
 "cells": [
  {
   "cell_type": "code",
   "execution_count": null,
   "metadata": {},
   "outputs": [],
   "source": [
    "import pandas as pd"
   ]
  },
  {
   "cell_type": "code",
   "execution_count": null,
   "metadata": {},
   "outputs": [],
   "source": [
    "classification = pd.read_csv('classification.csv').rename(columns={'Unnamed: 0': 'image_id'}).set_index('image_id')\n",
    "descriptive_features = pd.read_csv('descriptive_features.csv').rename(columns={'Unnamed: 0': 'image_id'}).set_index('image_id')\n",
    "mra_features = pd.read_csv('mra_features.csv').rename(columns={'Unnamed: 0': 'image_id'}).set_index('image_id')\n",
    "tri_features = pd.read_csv('tri_features.csv').rename(columns={'Unnamed: 0': 'image_id'}).set_index('image_id')\n",
    "variogram_features = pd.read_csv('variogram_features.csv').rename(columns={'Unnamed: 0': 'image_id'}).set_index('image_id')\n",
    "gini_features = pd.read_csv('gini_features.csv').rename(columns={'Unnamed: 0': 'image_id'}).set_index('image_id')\n",
    "num_peaks = pd.read_csv('num_peaks.csv').rename(columns={'Unnamed: 0': 'image_id'}).set_index('image_id')\n",
    "gradient = pd.read_csv('gradient.csv').rename(columns={'Unnamed: 0': 'image_id'}).set_index('image_id')\n",
    "\n",
    "features = [\n",
    "    classification,\n",
    "    descriptive_features,\n",
    "    mra_features,\n",
    "    tri_features,\n",
    "    variogram_features,\n",
    "    gini_features,\n",
    "    num_peaks,\n",
    "    gradient\n",
    "]\n",
    "\n",
    "df = pd.concat(features, axis=1)"
   ]
  },
  {
   "cell_type": "code",
   "execution_count": null,
   "metadata": {},
   "outputs": [],
   "source": [
    "df.to_csv('../data/X.csv')"
   ]
  },
  {
   "cell_type": "code",
   "execution_count": null,
   "metadata": {},
   "outputs": [],
   "source": [
    "df.columns"
   ]
  },
  {
   "cell_type": "code",
   "execution_count": null,
   "metadata": {},
   "outputs": [],
   "source": []
  }
 ],
 "metadata": {
  "kernelspec": {
   "display_name": "Python 3",
   "language": "python",
   "name": "python3"
  },
  "language_info": {
   "codemirror_mode": {
    "name": "ipython",
    "version": 3
   },
   "file_extension": ".py",
   "mimetype": "text/x-python",
   "name": "python",
   "nbconvert_exporter": "python",
   "pygments_lexer": "ipython3",
   "version": "3.7.4"
  }
 },
 "nbformat": 4,
 "nbformat_minor": 5
}
